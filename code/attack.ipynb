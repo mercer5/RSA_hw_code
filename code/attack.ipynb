{
 "cells": [
  {
   "cell_type": "code",
   "execution_count": 1,
   "metadata": {},
   "outputs": [],
   "source": [
    "from Crypto.Util.number import inverse,GCD,isPrime,getPrime\n",
    "from gmpy2 import gcdext,iroot,isqrt\n",
    "from random import randint"
   ]
  },
  {
   "cell_type": "code",
   "execution_count": 2,
   "metadata": {},
   "outputs": [],
   "source": [
    "# get n,e,c in all frames\n",
    "dct = {}\n",
    "for i in range(21):\n",
    "    f = open(\"./frame/Frame{}\".format(i),'r')\n",
    "    s = f.read()\n",
    "    temp = [int(s[i*256:(i+1)*256],16) for i in range(3)]\n",
    "    dct[\"frame{}\".format(i)] = temp"
   ]
  },
  {
   "cell_type": "code",
   "execution_count": 3,
   "metadata": {},
   "outputs": [],
   "source": [
    "# 能分解n的都调用这个解密\n",
    "def decrypt(p,q,n,e,c):\n",
    "    phi = (p-1)*(q-1)\n",
    "    d = inverse(e,phi)\n",
    "    m = pow(c,d,n)\n",
    "    print(bytes.fromhex(hex(m)[2:]))"
   ]
  },
  {
   "cell_type": "markdown",
   "metadata": {},
   "source": [
    "## common modulus"
   ]
  },
  {
   "cell_type": "code",
   "execution_count": 4,
   "metadata": {},
   "outputs": [
    {
     "name": "stdout",
     "output_type": "stream",
     "text": [
      "0 4\n"
     ]
    }
   ],
   "source": [
    "# find frames that could be attacked\n",
    "for i in range(len(dct)-1):\n",
    "    for j in range(i+1,len(dct)):\n",
    "        f1 = dct[\"frame{}\".format(i)]\n",
    "        f2 = dct[\"frame{}\".format(j)]\n",
    "        if f1[0] == f2[0]:\n",
    "            if GCD(f1[1],f2[1]) == 1:\n",
    "                print(i,j)"
   ]
  },
  {
   "cell_type": "code",
   "execution_count": 5,
   "metadata": {},
   "outputs": [],
   "source": [
    "def common_modulus(e1, e2, n, c1, c2):\n",
    "    # 调用扩展的欧几里得算法函数\n",
    "    g, s, t = gcdext(e1, e2)\n",
    "    # 求模反元素\n",
    "    if s < 0:\n",
    "        s = -s\n",
    "        c1 = inverse(c1,n)\n",
    "    if t < 0:\n",
    "        t = -t\n",
    "        c2 = inverse(c2,n)\n",
    "    return pow(c1,s,n)*pow(c2,t,n)%n"
   ]
  },
  {
   "cell_type": "code",
   "execution_count": 6,
   "metadata": {},
   "outputs": [
    {
     "data": {
      "text/plain": [
       "b'\\x98vT2\\x10\\xab\\xcd\\xef\\x00\\x00\\x00\\x00\\x00\\x00\\x00\\x00\\x00\\x00\\x00\\x00\\x00\\x00\\x00\\x00\\x00\\x00\\x00\\x00\\x00\\x00\\x00\\x00\\x00\\x00\\x00\\x00\\x00\\x00\\x00\\x00\\x00\\x00\\x00\\x00\\x00\\x00\\x00\\x00\\x00\\x00\\x00\\x00\\x00\\x00\\x00\\x00My secre'"
      ]
     },
     "execution_count": 6,
     "metadata": {},
     "output_type": "execute_result"
    }
   ],
   "source": [
    "f1 = dct[\"frame{}\".format(0)]\n",
    "f2 = dct[\"frame{}\".format(4)]\n",
    "m = common_modulus(f1[1],f2[1],f1[0],f1[2],f2[2])\n",
    "bytes.fromhex(hex(m)[2:])"
   ]
  },
  {
   "cell_type": "markdown",
   "metadata": {},
   "source": [
    "## 模不互素"
   ]
  },
  {
   "cell_type": "code",
   "execution_count": 7,
   "metadata": {},
   "outputs": [
    {
     "name": "stdout",
     "output_type": "stream",
     "text": [
      "1 18\n",
      "b'\\x98vT2\\x10\\xab\\xcd\\xef\\x00\\x00\\x00\\x0b\\x00\\x00\\x00\\x00\\x00\\x00\\x00\\x00\\x00\\x00\\x00\\x00\\x00\\x00\\x00\\x00\\x00\\x00\\x00\\x00\\x00\\x00\\x00\\x00\\x00\\x00\\x00\\x00\\x00\\x00\\x00\\x00\\x00\\x00\\x00\\x00\\x00\\x00\\x00\\x00\\x00\\x00\\x00\\x00. Imagin'\n",
      "b'\\x98vT2\\x10\\xab\\xcd\\xef\\x00\\x00\\x00\\n\\x00\\x00\\x00\\x00\\x00\\x00\\x00\\x00\\x00\\x00\\x00\\x00\\x00\\x00\\x00\\x00\\x00\\x00\\x00\\x00\\x00\\x00\\x00\\x00\\x00\\x00\\x00\\x00\\x00\\x00\\x00\\x00\\x00\\x00\\x00\\x00\\x00\\x00\\x00\\x00\\x00\\x00\\x00\\x00m A to B'\n"
     ]
    }
   ],
   "source": [
    "# find frames that could be attacked\n",
    "for i in range(len(dct)-1):\n",
    "    for j in range(i+1,len(dct)):\n",
    "        f1 = dct[\"frame{}\".format(i)]\n",
    "        f2 = dct[\"frame{}\".format(j)]\n",
    "        p = GCD(f1[0],f2[0])\n",
    "        if f1[0] != f2[0] and p != 1:\n",
    "            print(i,j)\n",
    "            f1 = dct[\"frame{}\".format(i)]\n",
    "            f2 = dct[\"frame{}\".format(j)]\n",
    "            decrypt(p,f1[0]//p,f1[0],f1[1],f1[2])\n",
    "            decrypt(p,f2[0]//p,f2[0],f2[1],f2[2])"
   ]
  },
  {
   "cell_type": "markdown",
   "metadata": {},
   "source": [
    "## Low Public Exponent\n",
    "### brute_force_crack"
   ]
  },
  {
   "cell_type": "code",
   "execution_count": 8,
   "metadata": {},
   "outputs": [
    {
     "name": "stdout",
     "output_type": "stream",
     "text": [
      "3 5\n",
      "7 3\n",
      "8 5\n",
      "11 3\n",
      "12 5\n",
      "15 3\n",
      "16 5\n",
      "20 5\n"
     ]
    }
   ],
   "source": [
    "# find frames that could be attacked\n",
    "lst_low_e = []\n",
    "for i in range(len(dct)):\n",
    "    e = dct[\"frame{}\".format(i)][1]\n",
    "    if e<10:\n",
    "        print(i,e)\n",
    "        lst_low_e.append(i)"
   ]
  },
  {
   "cell_type": "code",
   "execution_count": 9,
   "metadata": {},
   "outputs": [],
   "source": [
    "def brute_force_crack(n,e,c,repeat = 1000):\n",
    "    m = 0\n",
    "    for i in range(repeat):\n",
    "        m, flag = iroot(c+i*n,e)\n",
    "        if flag and pow(m,e,n) == c:\n",
    "            return int(m) \n",
    "    return 0"
   ]
  },
  {
   "cell_type": "code",
   "execution_count": 10,
   "metadata": {},
   "outputs": [],
   "source": [
    "for i in lst_low_e:\n",
    "    f = dct[\"frame{}\".format(i)]\n",
    "    m = brute_force_crack(f[0],f[1],f[2])\n",
    "    if m!=0: \n",
    "        print(i,int.to_bytes(m,48,'big'))"
   ]
  },
  {
   "cell_type": "markdown",
   "metadata": {},
   "source": [
    "## Factoring Large Integers  \n",
    "### Fermat's factorization method"
   ]
  },
  {
   "cell_type": "code",
   "execution_count": 11,
   "metadata": {},
   "outputs": [],
   "source": [
    "def Fermat_factorization(num,repeat = 100):\n",
    "    x,flag_x = iroot(num,2)\n",
    "    if pow(x,2)<num:\n",
    "        x+=1\n",
    "    for i in range(repeat):\n",
    "        temp = pow(x,2) - num\n",
    "        y,flag_y = iroot(temp,2)\n",
    "        if flag_y:\n",
    "            return int((x+y)),int((x-y))  \n",
    "        x+=1\n",
    "    else:\n",
    "        return 0,0"
   ]
  },
  {
   "cell_type": "code",
   "execution_count": 12,
   "metadata": {},
   "outputs": [
    {
     "name": "stdout",
     "output_type": "stream",
     "text": [
      "10\n",
      "b'\\x98vT2\\x10\\xab\\xcd\\xef\\x00\\x00\\x00\\x08\\x00\\x00\\x00\\x00\\x00\\x00\\x00\\x00\\x00\\x00\\x00\\x00\\x00\\x00\\x00\\x00\\x00\\x00\\x00\\x00\\x00\\x00\\x00\\x00\\x00\\x00\\x00\\x00\\x00\\x00\\x00\\x00\\x00\\x00\\x00\\x00\\x00\\x00\\x00\\x00\\x00\\x00\\x00\\x00will get'\n"
     ]
    }
   ],
   "source": [
    "for i in range(21):\n",
    "    f = dct[\"frame{}\".format(i)]\n",
    "    n = f[0]\n",
    "\n",
    "    p,q = Fermat_factorization(n)\n",
    "    if p and q:\n",
    "        print(i)\n",
    "        decrypt(p,q,n,e=f[1],c=f[2])"
   ]
  },
  {
   "cell_type": "markdown",
   "metadata": {},
   "source": [
    "## Factoring Large Integers  \n",
    "### Pollard's p-1 algorithm"
   ]
  },
  {
   "cell_type": "code",
   "execution_count": 13,
   "metadata": {},
   "outputs": [],
   "source": [
    "def pollard_p_1(n,B=120000):\n",
    "    a = 2\n",
    "    false_range = int(0.8*B)\n",
    "    for j in range(2,false_range):\n",
    "        a = pow(a, j, n)\n",
    "\n",
    "    d = 0\n",
    "    for j in range(false_range,B+1):\n",
    "        a = pow(a, j, n)\n",
    "        d = GCD(a-1, n)\n",
    "        if 1<d<n:\n",
    "            return d"
   ]
  },
  {
   "cell_type": "code",
   "execution_count": 14,
   "metadata": {},
   "outputs": [
    {
     "data": {
      "text/plain": [
       "'这里的数据太大了,要跑好久,就直接将结果放在下一个代码块中,不跑了'"
      ]
     },
     "execution_count": 14,
     "metadata": {},
     "output_type": "execute_result"
    }
   ],
   "source": [
    "\"\"\"这里的数据太大了,要跑好久,就直接将结果放在下一个代码块中,不跑了\"\"\"\n",
    "# lst_index_p = []\n",
    "# for i in [2,6,10,14,19]:\n",
    "#     f = dct[\"frame{}\".format(i)]\n",
    "#     n = f[0]\n",
    "#     p = pollard_p_1(n)\n",
    "#     if p:\n",
    "#         lst_index_p.append((i,p))\n",
    "\n",
    "# lst_index_p"
   ]
  },
  {
   "cell_type": "code",
   "execution_count": 15,
   "metadata": {},
   "outputs": [],
   "source": [
    "lst_index_p = [(2,1719620105458406433483340568317543019584575635895742560438771105058321655238562613083979651479555788009994557822024565226932906295208262756822275663694111),(19, 1085663496559),(6, 920724637201)]"
   ]
  },
  {
   "cell_type": "code",
   "execution_count": 16,
   "metadata": {},
   "outputs": [
    {
     "name": "stdout",
     "output_type": "stream",
     "text": [
      "2\n",
      "b'\\x98vT2\\x10\\xab\\xcd\\xef\\x00\\x00\\x00\\x06\\x00\\x00\\x00\\x00\\x00\\x00\\x00\\x00\\x00\\x00\\x00\\x00\\x00\\x00\\x00\\x00\\x00\\x00\\x00\\x00\\x00\\x00\\x00\\x00\\x00\\x00\\x00\\x00\\x00\\x00\\x00\\x00\\x00\\x00\\x00\\x00\\x00\\x00\\x00\\x00\\x00\\x00\\x00\\x00 That is'\n",
      "19\n",
      "b'\\x98vT2\\x10\\xab\\xcd\\xef\\x00\\x00\\x00\\x05\\x00\\x00\\x00\\x00\\x00\\x00\\x00\\x00\\x00\\x00\\x00\\x00\\x00\\x00\\x00\\x00\\x00\\x00\\x00\\x00\\x00\\x00\\x00\\x00\\x00\\x00\\x00\\x00\\x00\\x00\\x00\\x00\\x00\\x00\\x00\\x00\\x00\\x00\\x00\\x00\\x00\\x00\\x00\\x00instein.'\n",
      "6\n",
      "b'\\x98vT2\\x10\\xab\\xcd\\xef\\x00\\x00\\x00\\x07\\x00\\x00\\x00\\x00\\x00\\x00\\x00\\x00\\x00\\x00\\x00\\x00\\x00\\x00\\x00\\x00\\x00\\x00\\x00\\x00\\x00\\x00\\x00\\x00\\x00\\x00\\x00\\x00\\x00\\x00\\x00\\x00\\x00\\x00\\x00\\x00\\x00\\x00\\x00\\x00\\x00\\x00\\x00\\x00 \"Logic '\n"
     ]
    }
   ],
   "source": [
    "for i in lst_index_p:\n",
    "    print(i[0])\n",
    "    f =  dct[\"frame{}\".format(i[0])]\n",
    "    n = f[0]\n",
    "    p = i[1]\n",
    "    q = n//p\n",
    "    decrypt(p,q,n,e = f[1],c = f[2])"
   ]
  },
  {
   "cell_type": "markdown",
   "metadata": {},
   "source": [
    "## Factoring Large Integers  \n",
    "### Pollard rho"
   ]
  },
  {
   "cell_type": "code",
   "execution_count": 17,
   "metadata": {},
   "outputs": [],
   "source": [
    "def pollard_rho(n):\n",
    "    while True:\n",
    "        r = randint(2,7)\n",
    "        x = randint(2,n-1)\n",
    "        y = pow(x,2,n)+r\n",
    "\n",
    "        fac = GCD(abs(y-x),n)\n",
    "\n",
    "        if fac>1 and isPrime(fac):\n",
    "            return fac\n",
    "\n",
    "# p = getPrime(10)\n",
    "# q = getPrime(10)\n",
    "# print(p,q,pollard_rho(p*q))"
   ]
  },
  {
   "cell_type": "markdown",
   "metadata": {},
   "source": [
    "## Factoring Large Integers  \n",
    "### Williams's p + 1 algorithm"
   ]
  },
  {
   "cell_type": "code",
   "execution_count": 18,
   "metadata": {},
   "outputs": [],
   "source": [
    "# 生成lucas序列\n",
    "def Lucas(A, N, pos):\n",
    "    v0 = 2\n",
    "    v1 = A\n",
    "    if pos == 0:\n",
    "        return v0\n",
    "    elif pos == 1:\n",
    "        return v1\n",
    "    else:\n",
    "        for _ in range(pos-1):\n",
    "            v0,v1 = v1,(A*v1-v0)%N\n",
    "        return v1\n",
    "\n",
    "def williams_p_1(n,a,repeat = 20):\n",
    "    i_fac = 1 # 阶乘\n",
    "    for i in range(1,repeat):\n",
    "        i_fac *= i\n",
    "        lucas = Lucas(a,n,i_fac)%n\n",
    "        p = GCD(lucas-2,n)\n",
    "        if p>1 and p<n: \n",
    "            return p\n",
    "            \n",
    "# print(williams_p_1(112729,9))\n",
    "# print(williams_p_1(112729,5))"
   ]
  },
  {
   "cell_type": "code",
   "execution_count": 19,
   "metadata": {},
   "outputs": [],
   "source": [
    "# 展开为连分数\n",
    "def continuedFra(x, y):\n",
    "    cF = []\n",
    "    while y:\n",
    "        cF += [x // y]\n",
    "        x, y = y, x % y\n",
    "    return cF\n",
    "\n",
    "def Simplify(ctnf):\n",
    "    numerator = 0\n",
    "    denominator = 1\n",
    "    for x in ctnf[::-1]:\n",
    "        numerator, denominator = denominator, x * denominator + numerator\n",
    "    return (numerator, denominator)\n",
    "\n",
    "# 连分数化简\n",
    "def calculateFrac(x, y):\n",
    "    cF = continuedFra(x, y)\n",
    "    cF = list(map(Simplify, (cF[0:i] for i in range(1, len(cF)))))\n",
    "    return cF\n",
    "\n",
    "# 解韦达定理\n",
    "def solve_pq(a, b, c):\n",
    "    par = isqrt(abs(b * b - 4 * a * c))\n",
    "    return (-b + par) // (2 * a), (-b - par) // (2 * a)\n",
    "\n",
    "def wienerAttack(e, n):\n",
    "    for (d, k) in calculateFrac(e, n):\n",
    "        if k == 0: continue\n",
    "        if (e * d - 1) % k != 0: continue\n",
    "\n",
    "        phi = (e * d - 1) // k\n",
    "        p, q = solve_pq(1, n - phi + 1, n)\n",
    "        if p * q == n:\n",
    "            return abs(int(p)), abs(int(q))\n",
    "    return 0,0"
   ]
  },
  {
   "cell_type": "code",
   "execution_count": 20,
   "metadata": {},
   "outputs": [
    {
     "name": "stdout",
     "output_type": "stream",
     "text": [
      "p: 110628229052318704152246095359270943887813104444949254398128993373602031238362003253725157377156430190674485981957445623074380516333901046053625898418396428434438992000260593732179397554401650954591549716160461307807121354462523624398848957270672460052953336283536148203105186509336678669629895378279072978393\n",
      "q: 110628229052318704152246095359270943887813104444949254398128993373602031238362003253725157377156430190674485981957445623074380516333901046053625898418396428434438992000260593732179397554401650954591549716160461307807121354462523624398848957270672460052953336283536148203105186509336678669629895378279072978539\n",
      "d: 392321823339749506721829211885\n"
     ]
    }
   ],
   "source": [
    "n = 12238605063252292170613110607692779326628090745751955692266649177882959231822580682548279800443278979485092243645806337103841086023159482786712759291169541633901936290854044069486201989034158882661270017305064348254800318759062921744741432214818915527537124001063995865927527037625277330117588414586505635959411443039463168463608235165929831344586283875119363703480280602514451713723663297066810128769907278246434745483846869482536367912810637275405943566734099622063142293421936734750356828712268385319217225803602442033960930413469179550331907541244416573641309943913383658451409219852933526106735587605884499707827\n",
    "e = 11850552481503020257392808424743510851763548184936536180317707155841959788151862976445957810691568475609821000653594584717037528429828330763571556164988619635320288125983463358648887090031957900011546300841211712664477474767941406651977784177969001025954167441377912326806132232375497798238928464025466905201977180541053129691501120197010080001677260814313906843670652972019631997467352264392296894192998971542816081534808106792758008676039929763345402657578681818891775091140555977382868531202964486261123748663752490909455324860302967636149379567988941803701512680099398021640317868259975961261408500449965277690517\n",
    "p,q = wienerAttack(e,n)\n",
    "print(\"p: {}\\nq: {}\".format(p,q))\n",
    "if p and q: \n",
    "    phi = (p-1)*(q-1)\n",
    "    d = inverse(e,phi)\n",
    "    print(\"d: {}\".format(d))\n"
   ]
  },
  {
   "cell_type": "markdown",
   "metadata": {},
   "source": [
    "## coppersmith 相关攻击\n",
    "### broadcast attack"
   ]
  },
  {
   "cell_type": "code",
   "execution_count": 21,
   "metadata": {},
   "outputs": [
    {
     "name": "stdout",
     "output_type": "stream",
     "text": [
      "3 5\n",
      "7 3\n",
      "8 5\n",
      "11 3\n",
      "12 5\n",
      "15 3\n",
      "16 5\n",
      "20 5\n"
     ]
    }
   ],
   "source": [
    "# find frames that could be attacked\n",
    "for i in range(len(dct)):\n",
    "    e = dct[\"frame{}\".format(i)][1]\n",
    "    if e<10:\n",
    "        print(i,e)"
   ]
  },
  {
   "cell_type": "code",
   "execution_count": 22,
   "metadata": {},
   "outputs": [],
   "source": [
    "# crt\n",
    "def egcd(a, b):\n",
    "    if a == 0:\n",
    "        return (b, 0, 1)\n",
    "    else:\n",
    "        g, y, x = egcd(b % a, a)\n",
    "        y, x = x - (b // a) * y, y\n",
    "        return (g, y, x)\n",
    "\n",
    "def is_prime(arr):\n",
    "    for i in range(len(arr)-1):\n",
    "        for j in range(i+1,len(arr)):\n",
    "            if egcd(arr[i],arr[j])[0]!=1:\n",
    "                return False\n",
    "            return True\n",
    "\n",
    "def mul(arr):\n",
    "    end = 1\n",
    "    for i in arr:\n",
    "        end*=i\n",
    "    return end\n",
    "\n",
    "def crt(lst_a,lst_m):\n",
    "    product_m=mul(lst_m)\n",
    "    x = 0\n",
    "    M = [product_m // i for i in lst_m]\n",
    "    C = []\n",
    "    for i in range(len(M)):\n",
    "        C.append(egcd(M[i], lst_m[i])[1])\n",
    "    \n",
    "    for i in range(len(M)):\n",
    "        x += lst_a[i] * M[i] * C[i]\n",
    "    return x%product_m\n",
    "\n",
    "# print(crt([2,3,2],[3,5,7]))"
   ]
  },
  {
   "cell_type": "code",
   "execution_count": 23,
   "metadata": {},
   "outputs": [
    {
     "name": "stdout",
     "output_type": "stream",
     "text": [
      "b'\\x98vT2\\x10\\xab\\xcd\\xef\\x00\\x00\\x00\\x01\\x00\\x00\\x00\\x00\\x00\\x00\\x00\\x00\\x00\\x00\\x00\\x00\\x00\\x00\\x00\\x00\\x00\\x00\\x00\\x00\\x00\\x00\\x00\\x00\\x00\\x00\\x00\\x00\\x00\\x00\\x00\\x00\\x00\\x00\\x00\\x00\\x00\\x00\\x00\\x00\\x00\\x00\\x00\\x00t is a f'\n"
     ]
    }
   ],
   "source": [
    "lst_common_e = [3,8,12,16,20]\n",
    "# lst_common_e = [7,11,15]\n",
    "lst_a = []\n",
    "lst_m = []\n",
    "for i in lst_common_e:\n",
    "    f = dct[\"frame{}\".format(i)]\n",
    "    lst_a.append(f[2])\n",
    "    lst_m.append(f[0])\n",
    "    e = f[1]\n",
    "m_e = crt(lst_a,lst_m)\n",
    "m = iroot(m_e,e)[0]\n",
    "print(bytes.fromhex(hex(m)[2:]))"
   ]
  },
  {
   "cell_type": "markdown",
   "metadata": {},
   "source": [
    "## coppersmith 相关攻击\n",
    "### 已知部分明文"
   ]
  },
  {
   "cell_type": "markdown",
   "metadata": {},
   "source": [
    "- 以下代码在sage环境下使用\n",
    "- 将e = 3的(n,c)分别替换下述代码中的(n,c)即可"
   ]
  },
  {
   "cell_type": "markdown",
   "metadata": {},
   "source": [
    "```python\n",
    "n = 155266493936043103849855199987896813716831986416707080645036022909153373110367007140301635144950634879983289720164117794783088845393686109145443728632527874768524615377182297125716276153800765906014206797548230661764274997562670900115383324605843933035314110752560290540848152237316752573471110899212429555149\n",
    "c = 124929943232081828105808318993257526364596580021564021377503915670544445679836588765369503919311404328043203272693851622132258819278328852726005776082575583793735570095307898828254568015886630010269615546857335790791577865565021730890364239443651479580968112031521485174068731577348690810906553798608040451024\n",
    "e = 3\n",
    "\n",
    "# 枚举可能的tag\n",
    "m_lst = []\n",
    "s = \"9876543210abcdef0000000b00000000000000000000000000000000000000000000000000000000000000000000000000000000000000002e20496d6167696e\"\n",
    "for i in \"1234567890abcdef\":\n",
    "    m_lst.append(eval('0x'+s[:23]+i+s[24:]))\n",
    "\n",
    "# 破解\n",
    "for m in m_lst:\n",
    "    # 获取m中已知部分,未知部分用0替代\n",
    "    nbits = 512\n",
    "    kbits = 64\n",
    "    mbar = m&(pow(2,nbits)-pow(2,kbits))\n",
    "\n",
    "    #Zmod(n):Zmod代表这是一个整数域中的n模环\n",
    "    #PolynomialRing：这个就是说建立多项式环\n",
    "    #.<X>：指定一个变量\n",
    "    PR.<x> = PolynomialRing(Zmod(n))\n",
    "    f = (mbar + x)**e - c\n",
    "    # small_roots ( self , X = None , beta = 1.0 , epsilon = None , ** kwds )\n",
    "    # X – 根的绝对边界\n",
    "    roots = f.small_roots()\n",
    "    if roots: \n",
    "        print(bytes.fromhex(hex(mbar+roots[0])[2:]))\n",
    "        break\n",
    "```"
   ]
  },
  {
   "cell_type": "markdown",
   "metadata": {},
   "source": [
    "- 7\n",
    "b'\\x98vT2\\x10\\xab\\xcd\\xef\\x00\\x00\\x00\\x02\\x00\\x00\\x00\\x00\\x00\\x00\\x00\\x00\\x00\\x00\\x00\\x00\\x00\\x00\\x00\\x00\\x00\\x00\\x00\\x00\\x00\\x00\\x00\\x00\\x00\\x00\\x00\\x00\\x00\\x00\\x00\\x00\\x00\\x00\\x00\\x00\\x00\\x00\\x00\\x00\\x00\\x00\\x00\\x00amous sa'\n",
    "\n",
    "- 11\n",
    "b'\\x98vT2\\x10\\xab\\xcd\\xef\\x00\\x00\\x00\\x03\\x00\\x00\\x00\\x00\\x00\\x00\\x00\\x00\\x00\\x00\\x00\\x00\\x00\\x00\\x00\\x00\\x00\\x00\\x00\\x00\\x00\\x00\\x00\\x00\\x00\\x00\\x00\\x00\\x00\\x00\\x00\\x00\\x00\\x00\\x00\\x00\\x00\\x00\\x00\\x00\\x00\\x00\\x00\\x00ying of '\n",
    "\n",
    "- 15\n",
    "b'\\x98vT2\\x10\\xab\\xcd\\xef\\x00\\x00\\x00\\x04\\x00\\x00\\x00\\x00\\x00\\x00\\x00\\x00\\x00\\x00\\x00\\x00\\x00\\x00\\x00\\x00\\x00\\x00\\x00\\x00\\x00\\x00\\x00\\x00\\x00\\x00\\x00\\x00\\x00\\x00\\x00\\x00\\x00\\x00\\x00\\x00\\x00\\x00\\x00\\x00\\x00\\x00\\x00\\x00Albert E'"
   ]
  },
  {
   "cell_type": "markdown",
   "metadata": {},
   "source": []
  }
 ],
 "metadata": {
  "interpreter": {
   "hash": "378be31048f32c11aee16969980c9de18cdb69ab3b8f756f901d1178815857d5"
  },
  "kernelspec": {
   "display_name": "SageMath 9.2",
   "language": "python",
   "name": "python3"
  },
  "language_info": {
   "codemirror_mode": {
    "name": "ipython",
    "version": 3
   },
   "file_extension": ".py",
   "mimetype": "text/x-python",
   "name": "python",
   "nbconvert_exporter": "python",
   "pygments_lexer": "ipython3",
   "version": "3.9.7"
  },
  "orig_nbformat": 4
 },
 "nbformat": 4,
 "nbformat_minor": 2
}
